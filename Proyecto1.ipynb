{
 "cells": [
  {
   "cell_type": "markdown",
   "id": "b1691cf5",
   "metadata": {},
   "source": [
    "# Proyecto 1 \n",
    "## Optimización de concreto\n",
    "## Fernando, Omar,  Alejandro\n"
   ]
  },
  {
   "cell_type": "markdown",
   "id": "d1ea8d4e",
   "metadata": {},
   "source": [
    "En este proyecto queremos optimizar minimizando los costos de la creación de concreto, respecto al precio de 3 compañias ofreciendo los materiales necesarios. "
   ]
  },
  {
   "cell_type": "markdown",
   "id": "1a066a31",
   "metadata": {},
   "source": [
    "### Problema de compra y transporte de material para la creación de concreto"
   ]
  },
  {
   "cell_type": "markdown",
   "id": "4ad027b5",
   "metadata": {},
   "source": [
    "La constructora Torres necesita $100$ metros cúbicos de concreto para realizar la fabricación de una nave industrial. Se consta de $3$ empresas que venden el material requerido; cemento, arena y grava. Cada una a distintos precios.\n",
    "El precio se designa por sacos de $50 kg$ de cada material.\n",
    "\n",
    "Se desea crear el concreto $1:2:3$ de resistencia $250kg/cm2$, lo cual indica que por cada saco de cemento son $2$ sacos de arena y $3$ sacos de grava. Para crear $1m3$ de concreto se necesitan $7$ sacos de cemento.\n",
    "\n",
    "Estos precios son ofrecidos por las compañias con un $10$% de descuento siempre y cuando; en CEMEX se compre mas de $50$ toneladas, $70$ para Construrama y $80$ toneladas para Grupo RH para ellas reducir costos de transportación y logística. "
   ]
  },
  {
   "cell_type": "markdown",
   "id": "abbdb255",
   "metadata": {},
   "source": [
    "-|CEMEX|Construrama|Grupo RH\n",
    ":----|----|----|----\n",
    "Cemento|249|250|242\n",
    "Arena |15|13|12\n",
    "Grava |72|70|65"
   ]
  },
  {
   "cell_type": "markdown",
   "id": "d6327e97",
   "metadata": {},
   "source": [
    "Paso 1.- Criterio de optimización, minimizar costos."
   ]
  },
  {
   "cell_type": "markdown",
   "id": "2653e06f",
   "metadata": {},
   "source": [
    "Paso 2.- Identificar variables que tenga el control\n",
    "+ $x_1:$ Sacos de cemento CEMEX  \n",
    "+ $x_2:$ Sacos de arena CEMEX  \n",
    "+ $x_3:$ Sacos de grava CEMEX  \n",
    "+ $y_1:$ Sacos de cemento Consturama\n",
    "+ $y_2:$ Sacos de arena Constrama\n",
    "+ $y_3:$ Sacos de grava Construrama\n",
    "+ $z_1:$ Sacos de cemento Grupo RH\n",
    "+ $z_2:$ Sacos de arena Grupo RH\n",
    "+ $z_3:$ Sacos de grava Grupo RH\n",
    "\n",
    "\n",
    "Paso 3.- Funcion de costo\n",
    "- $x_1249+x_215+x_372+y_1250+y_213+y_370+z_1242+z_212+z_365$\n"
   ]
  },
  {
   "cell_type": "markdown",
   "id": "176033a2",
   "metadata": {},
   "source": [
    "Paso 4.- Identificar restricciones\n",
    "\n",
    "$x_1+x_2+x_3>=1000$\n",
    "\n",
    "$y_1+y_2+y_3>=1400$\n",
    "\n",
    "$z_1+z_2+z_3>=1600$\n",
    "\n",
    "\n",
    "Otras restricciones.\n",
    "\n",
    "$x_1+y_1+z_1 =700$\n",
    "\n",
    "$x_2+y_2+z_2 =1400$\n",
    "\n",
    "$x_3+y_3+z_3 =2100$\n",
    "\n",
    "\n",
    "\n",
    "\n"
   ]
  },
  {
   "cell_type": "markdown",
   "id": "508952c3",
   "metadata": {},
   "source": [
    "Resolviendo :\n",
    "\n",
    " Se necesitan $700$ sacos de cemento\n",
    " \n",
    " $1400$ sacos de arena\n",
    " \n",
    " $2100$ sacos de grava\n",
    " \n",
    " Total de sacos $4200$ o $210$ toneladas\n",
    " \n",
    " $50$ toneladas = $1000$ sacos\n",
    " \n",
    " $70$ toneladas = $1400$ sacos\n",
    " \n",
    " $80$ tonealadas = $1600$ sacos "
   ]
  },
  {
   "cell_type": "markdown",
   "id": "edba6263",
   "metadata": {},
   "source": [
    "https://www.publimetro.com.mx/jalisco/2021/11/25/aumento-a-tarifas-guadalajara-y-zapopan-pagaran-mas-para-tener-agua-en-cas"
   ]
  },
  {
   "cell_type": "code",
   "execution_count": 140,
   "id": "c2ad7948",
   "metadata": {},
   "outputs": [],
   "source": [
    "import sympy as sp\n",
    "import numpy as np\n",
    "import scipy.optimize as opt\n",
    "\n",
    "c = np.array([249,\n",
    "              15,\n",
    "              72,\n",
    "              250,\n",
    "              13,\n",
    "              70,\n",
    "              242,\n",
    "              12,\n",
    "              65,\n",
    "                ])\n",
    "\n",
    "Aub = np.array([\n",
    "            [-1, -1, -1, 0, 0, 0, 0, 0, 0],\n",
    "            [0, 0, 0, -1, -1, -1, 0, 0, 0],\n",
    "            [0, 0, 0, 0, 0, 0, -1, -1, -1]])\n",
    "\n",
    "\n",
    "Bub = np.array([-1000,\n",
    "                -1400,\n",
    "                -1600])\n",
    "\n",
    "\n",
    "\n",
    "\n",
    "Aeq = np.array([\n",
    "            [1, 0, 0, 1, 0, 0, 1, 0, 0],\n",
    "            [0, 1, 0, 0, 1, 0, 0, 1, 0],\n",
    "            [0, 0, 1, 0, 0, 1, 0, 0, 1]])\n",
    "\n",
    "\n",
    "beq = np.array([700,\n",
    "                1400,\n",
    "                2100])\n",
    "sol = opt.linprog(c, Aub, Bub, Aeq, beq)\n",
    "\n"
   ]
  },
  {
   "cell_type": "code",
   "execution_count": 169,
   "id": "9b4a4f23",
   "metadata": {},
   "outputs": [
    {
     "name": "stdout",
     "output_type": "stream",
     "text": [
      "La cantidad de sacos que se deberan de comprar a la empresa CEMEX son de:   177.0 Sacos de cemento,  469.0 Sacos de arena,  354.0 Sacos de grava, \n",
      "Las toneladas a comprar en CEMEX es de  1000.0\n",
      "El precio a pagar en CEMEX es de $ 76596.0\n",
      "La cantidad de sacos que se deberan de comprar a la empresa Construama son de:   0.0 Sacos de cemento,  931.0 Sacos de arena,  469.0 Sacos de grava, \n",
      "Las toneladas a comprar en Construrama es de  1400.0\n",
      "El precio a pagar en Construrama es de $ 44933.0\n",
      "La cantidad de sacos que se deberan de comprar a la empresa Grupo RH son de:   523.0 Sacos de cemento,  0.0 Sacos de arena,  1277.0 Sacos de grava, \n",
      "Las toneladas a comprar en Grupo RH es de  1800.0\n",
      "El precio a pagar en Grupo RH es de $ 209571.0\n",
      "El costo total es de $ 331100.0\n"
     ]
    }
   ],
   "source": [
    "print(\"La cantidad de sacos que se deberan de comprar a la empresa CEMEX son de:  \",\n",
    "      sol.x.round(0)[0], \"Sacos de cemento, \",\n",
    "      sol.x.round(0)[1],\"Sacos de arena, \", \n",
    "      sol.x.round(0)[2],\"Sacos de grava, \",)\n",
    "print(\"Las toneladas a comprar en CEMEX es de \",(sol.x.round(0)[0]+sol.x.round(0)[1]+sol.x.round(0)[2]) )\n",
    "print(\"El precio a pagar en CEMEX es de $\",total1)\n",
    "\n",
    "print(\"La cantidad de sacos que se deberan de comprar a la empresa Construama son de:  \",\n",
    "      sol.x.round(0)[3], \"Sacos de cemento, \",\n",
    "      sol.x.round(0)[4],\"Sacos de arena, \", \n",
    "      sol.x.round(0)[5],\"Sacos de grava, \",)\n",
    "print(\"Las toneladas a comprar en Construrama es de \",(sol.x.round(0)[3]+sol.x.round(0)[4]+sol.x.round(0)[5]) )\n",
    "print(\"El precio a pagar en Construrama es de $\",total2)\n",
    "\n",
    "print(\"La cantidad de sacos que se deberan de comprar a la empresa Grupo RH son de:  \",\n",
    "      sol.x.round(0)[6], \"Sacos de cemento, \",\n",
    "      sol.x.round(0)[7],\"Sacos de arena, \", \n",
    "      sol.x.round(0)[8],\"Sacos de grava, \",)\n",
    "print(\"Las toneladas a comprar en Grupo RH es de \",(sol.x.round(0)[6]+sol.x.round(0)[7]+sol.x.round(0)[8]) )\n",
    "print(\"El precio a pagar en Grupo RH es de $\",total3)\n",
    "\n",
    "total1 = (((sol.x.round(0)[0])*249)+((sol.x.round(0)[1])*15)+((sol.x.round(0)[2])*72))\n",
    "total2 = (((sol.x.round(0)[3])*250)+((sol.x.round(0)[4])*13)+((sol.x.round(0)[5])*70))\n",
    "total3 = (((sol.x.round(0)[6])*242)+((sol.x.round(0)[7])*12)+((sol.x.round(0)[8])*65))\n",
    "print(\"El costo total es de $\",total1+total2+total3)"
   ]
  },
  {
   "cell_type": "code",
   "execution_count": null,
   "id": "b932f1f4",
   "metadata": {},
   "outputs": [],
   "source": []
  },
  {
   "cell_type": "code",
   "execution_count": 174,
   "id": "5a00dfad",
   "metadata": {},
   "outputs": [
    {
     "data": {
      "text/plain": [
       "<BarContainer object of 9 artists>"
      ]
     },
     "execution_count": 174,
     "metadata": {},
     "output_type": "execute_result"
    },
    {
     "data": {
      "image/png": "[encoded data removed]",
      "text/plain": [
       "<Figure size 432x288 with 1 Axes>"
      ]
     },
     "metadata": {
      "needs_background": "light"
     },
     "output_type": "display_data"
    }
   ],
   "source": [
    "import matplotlib.pyplot as plt\n",
    "%matplotlib inline\n",
    "\n",
    "plt.figure()\n",
    "plt.bar(['x1','x2','x3','y1','y2','y3','z1','z2','z3'],sol.x)"
   ]
  },
  {
   "cell_type": "code",
   "execution_count": null,
   "id": "4d5c3ff7",
   "metadata": {},
   "outputs": [],
   "source": []
  },
  {
   "cell_type": "code",
   "execution_count": null,
   "id": "523e87b7",
   "metadata": {},
   "outputs": [],
   "source": []
  },
  {
   "cell_type": "code",
   "execution_count": null,
   "id": "ca5a1dfd",
   "metadata": {},
   "outputs": [],
   "source": [
    "\n",
    "             "
   ]
  },
  {
   "cell_type": "code",
   "execution_count": null,
   "id": "994e1a3f",
   "metadata": {},
   "outputs": [],
   "source": []
  },
  {
   "cell_type": "code",
   "execution_count": null,
   "id": "a518fadc",
   "metadata": {},
   "outputs": [],
   "source": []
  }
 ],
 "metadata": {
  "kernelspec": {
   "display_name": "Python 3",
   "language": "python",
   "name": "python3"
  },
  "language_info": {
   "codemirror_mode": {
    "name": "ipython",
    "version": 3
   },
   "file_extension": ".py",
   "mimetype": "text/x-python",
   "name": "python",
   "nbconvert_exporter": "python",
   "pygments_lexer": "ipython3",
   "version": "3.8.8"
  }
 },
 "nbformat": 4,
 "nbformat_minor": 5
}
