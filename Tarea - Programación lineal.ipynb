{
 "cells": [
  {
   "cell_type": "markdown",
   "metadata": {},
   "source": [
    "# Tarea - Programación lineal\n",
    "### Luis Fernando Ramirez Torres 20/02/2023\n",
    "#### 728831"
   ]
  },
  {
   "cell_type": "markdown",
   "metadata": {},
   "source": [
    "### Diseño de la Dieta Óptima\n",
    "\n",
    "Se quiere producir comida para gatos de la manera más barata, no obstante se debe también asegurar que se cumplan los datos requeridos de analisis nutricional. Por lo que se quiere variar la cantidad de cada ingrediente para cumplir con los estandares nutricionales. Los requisitos que se tienen es que en $100$ gramos, se deben tener **por lo menos** $8$ gramos de proteína y $6$ gramos de grasa. Así mismo, no se debe tener más de $2$ gramos de fibra y $0.4$ gramos de sal.  \n",
    "\n",
    "Los datos nutricionales se pueden obtener de la siguiente tabla:\n",
    "\n",
    "Ingrediente|Proteína|Grasa|Fibra|Sal\n",
    ":----|----|----|----|----\n",
    "Pollo|  10.0%|08.0%|00.1%|00.2%\n",
    "Carne|  20.0%|10.0%|00.5%|00.5%\n",
    "Cordero|15.0%|11.0%|00.5%|00.7%\n",
    "Arroz|  00.0%|01.0%|10.0%|00.2%\n",
    "Trigo|  04.0%|01.0%|15.0%|00.8%\n",
    "Gel|    00.0%|00.0%|00.0%|00.0%\n",
    "\n",
    "Los costos de cada producto son:\n",
    "\n",
    "Ingrediente|Costo por gramo\n",
    ":----|----\n",
    "Pollo|$\\$$0.013\n",
    "Carne|$\\$$0.008\n",
    "Cordero|$\\$$0.010\n",
    "Arroz|$\\$$0.002\n",
    "Trigo|$\\$$0.005\n",
    "Gel|$\\$$0.001    \n",
    "\n",
    "Lo que se busca optimizar en este caso es la cantidad de productos que se debe utilizar en la comida de gato, minimizando el costo total. Para simplificar la notación use las siguientes variables: \n",
    "\n",
    "+ $x_1:$ Gramos de pollo  \n",
    "+ $x_2:$ Gramos de carne  \n",
    "+ $x_3:$ Gramos de cordero  \n",
    "+ $x_4:$ Gramos de arroz  \n",
    "+ $x_5:$ Gramos de trigo  \n",
    "+ $x_6:$ Gramos de gel\n",
    "\n",
    "La tarea consiste en plantear el problemade programación lineal que permita satisfacer las necesidades alimenticias del gato al tiempo que minimice el costo total y resolverlo con `linprog`."
   ]
  },
  {
   "cell_type": "markdown",
   "metadata": {},
   "source": [
    "Paso 1.- Minimizar costo total "
   ]
  },
  {
   "cell_type": "markdown",
   "metadata": {},
   "source": [
    "Paso 2.- Identificar variables que tenga el control\n",
    "+ $x_1:$ Gramos de pollo  \n",
    "+ $x_2:$ Gramos de carne  \n",
    "+ $x_3:$ Gramos de cordero  \n",
    "+ $x_4:$ Gramos de arroz  \n",
    "+ $x_5:$ Gramos de trigo  \n",
    "+ $x_6:$ Gramos de gel\n",
    "\n",
    "Paso 3.- Funcion de costo\n",
    "- $x_10.013+x_20.008+x_30.010+x_40.002+x_50.005+x_60.001$\n"
   ]
  },
  {
   "cell_type": "markdown",
   "metadata": {},
   "source": [
    "Paso 4.- identificar restricciones\n",
    "\n",
    "8 gramos proteina <= x1* 0.10 + x2* 0.20 + x3* 0.15 + x4* 0.00 + x5* 0.04 + x6*0\n",
    "\n",
    "6 gramos de grasa <= x1* 0.08 + x2* 0.10 + x3* 0.11 + x4* 0.01 + x5* 0.01 + x6*0\n",
    "\n",
    "2 gramos de fibra >= x1* 0.001+ x2* 0.005+ x3* 0.005+ x4* 0.10 + x5* 0.15 + x6*0\n",
    "\n",
    "0.4 gramos de sal >= x1* 0.002+ x2* 0.005+ x3* 0.007+ x4* 0.002+ x5* 0.008+ x6*0\n"
   ]
  },
  {
   "cell_type": "code",
   "execution_count": 8,
   "metadata": {},
   "outputs": [],
   "source": [
    "import sympy as sp\n",
    "import numpy as np\n",
    "import scipy.optimize as opt\n"
   ]
  },
  {
   "cell_type": "code",
   "execution_count": 21,
   "metadata": {
    "scrolled": true
   },
   "outputs": [
    {
     "data": {
      "text/plain": [
       "     con: array([4.35201741e-09])\n",
       "     fun: 0.10000000203905762\n",
       " message: 'Optimization terminated successfully.'\n",
       "     nit: 7\n",
       "   slack: array([7.99999996, 5.99999998, 1.99999999, 0.4       ])\n",
       "  status: 0\n",
       " success: True\n",
       "       x: array([4.84602535e-08, 8.38551763e-08, 7.89486887e-08, 8.46264737e-09,\n",
       "       3.89748769e-08, 9.99999997e+01])"
      ]
     },
     "execution_count": 21,
     "metadata": {},
     "output_type": "execute_result"
    }
   ],
   "source": [
    "c = np.array([0.013,\n",
    "              0.008,\n",
    "              0.010,\n",
    "              0.002,\n",
    "              0.005,\n",
    "              0.001])\n",
    "\n",
    "Aub = np.array([\n",
    "    [0.100,0.200,0.150,0.000,0.040,0],\n",
    "    [0.080,0.100,0.110,0.010,0.010,0],\n",
    "    [0.001,0.005,0.005,0.100,0.150,0],\n",
    "    [0.002,0.005,0.007,0.002,0.008,0]\n",
    "])\n",
    "\n",
    "bub = np.array([8,\n",
    "                6,\n",
    "                2,\n",
    "                0.4])\n",
    "\n",
    "Aeq = np.array([\n",
    "    [1,1,1,1,1,1]\n",
    "])\n",
    "\n",
    "beq= np.array([100\n",
    "              ])\n",
    "\n",
    "opt.linprog(c, Aub, bub, Aeq, beq)\n",
    "\n"
   ]
  },
  {
   "cell_type": "markdown",
   "metadata": {},
   "source": [
    "### Resultado no interpretado por falta de acurácia :("
   ]
  },
  {
   "cell_type": "markdown",
   "metadata": {},
   "source": [
    "### Problema de distribución de energía eléctrica\n",
    "\n",
    "La Comisión Federal de Electricidad **(CFE)** dispone de cuatro plantas de generación para satisfacer la demanda diaria eléctrica en cuatro ciudades, Guadalajara, León y Morelia. Las plantas $1$, $2$ y $3$ pueden satisfacer $80$, $40$ y $60$ millones de KW al día respectivamente. Las necesidades de las ciudades de Guadalajara, León y Morelia son de $70$, $40$ y $70$ millones de Kw al día respectivamente. \n",
    "\n",
    "\n",
    "Los costos asociados al envío de suministro energético por cada millón de Kw entre cada planta y cada ciudad son los registrados en la siguiente tabla. \n",
    "\n",
    "-|Guadalajara|León|Morelia\n",
    ":----|----|----|----\n",
    "Planta 1|5|2|7\n",
    "Planta 2|3|6|6\n",
    "Planta 3|6|1|2\n",
    "\n",
    "Y por último, las restricciones del problema, van a estar dadas por las capacidades de oferta y demanda de cada planta (en millones de KW) y cada ciudad.\n",
    "\n",
    "Para simplificar la notación use las siguientes variables:\n",
    "\n",
    "+ $x_1$: Kw (en millones) distribuidos de la Planta 1 a Guadalajara\n",
    "+ $x_2$: Kw (en millones) distribuidos de la Planta 1 a León\n",
    "+ $x_3$: Kw (en millones) distribuidos de la Planta 1 a Morelia\n",
    "+ $x_4$: Kw (en millones) distribuidos de la Planta 2 a Guadalajara\n",
    "+ $x_5$: Kw (en millones) distribuidos de la Planta 2 a León\n",
    "+ $x_6$: Kw (en millones) distribuidos de la Planta 2 a Morelia\n",
    "+ $x_7$: Kw (en millones) distribuidos de la Planta 3 a Guadalajara\n",
    "+ $x_8$: Kw (en millones) distribuidos de la Planta 3 a León\n",
    "+ $x_9$: Kw (en millones) distribuidos de la Planta 3 a Morelia\n",
    "\n",
    "La tarea consiste en plantear el problema de programación lineal que permita satisfacer las necesidades de todas las ciudades al tiempo que minimice los costos asociados a la distribución y resolverlo con `linprog`."
   ]
  },
  {
   "cell_type": "markdown",
   "metadata": {},
   "source": [
    "Paso 1 minimizar costos "
   ]
  },
  {
   "cell_type": "markdown",
   "metadata": {},
   "source": [
    "Paso 2.- Variables que yo controlo\n",
    "X1+x2+x3+x4+x5+x6+x7+x8+x9"
   ]
  },
  {
   "cell_type": "markdown",
   "metadata": {},
   "source": [
    "Paso 4 restricciones\n",
    "\n",
    "x1+x4+x7 = 70\n",
    "\n",
    "x2+x5+x8 = 40\n",
    "\n",
    "x3+x6+x9 = 70\n",
    "\n",
    "x1+x2+x3 = 80\n",
    "\n",
    "x4+x5+x6 = 40\n",
    "\n",
    "x7+x8+x9 = 60\n"
   ]
  },
  {
   "cell_type": "code",
   "execution_count": 25,
   "metadata": {},
   "outputs": [
    {
     "name": "stderr",
     "output_type": "stream",
     "text": [
      "<ipython-input-25-2bd0bdad2348>:28: OptimizeWarning: Solving system with option 'cholesky':True failed. It is normal for this to happen occasionally, especially as the solution is approached. However, if you see this frequently, consider setting option 'cholesky' to False.\n",
      "  opt.linprog(c, Aub, bub, Aeq, beq)\n",
      "<ipython-input-25-2bd0bdad2348>:28: OptimizeWarning: Solving system with option 'sym_pos':True failed. It is normal for this to happen occasionally, especially as the solution is approached. However, if you see this frequently, consider setting option 'sym_pos' to False.\n",
      "  opt.linprog(c, Aub, bub, Aeq, beq)\n",
      "C:\\Users\\ferna\\Anaconda3\\lib\\site-packages\\scipy\\optimize\\_linprog_ip.py:117: LinAlgWarning: Ill-conditioned matrix (rcond=3.1315e-18): result may not be accurate.\n",
      "  return sp.linalg.solve(M, r, sym_pos=sym_pos)\n"
     ]
    },
    {
     "data": {
      "text/plain": [
       "     con: array([1.74803461e-09, 9.66551283e-10, 1.74864567e-09])\n",
       "     fun: 539.9999999877223\n",
       " message: 'Optimization terminated successfully.'\n",
       "     nit: 6\n",
       "   slack: array([2.00691375e-09, 9.71880354e-10, 1.48444457e-09])\n",
       "  status: 0\n",
       " success: True\n",
       "       x: array([3.00000000e+01, 4.00000000e+01, 1.00000000e+01, 4.00000000e+01,\n",
       "       1.04540829e-10, 2.57527253e-11, 5.44274848e-11, 7.26427698e-11,\n",
       "       6.00000000e+01])"
      ]
     },
     "execution_count": 25,
     "metadata": {},
     "output_type": "execute_result"
    }
   ],
   "source": [
    "c = np.array([5,\n",
    "              2,\n",
    "              7,\n",
    "              3,\n",
    "              6,\n",
    "              6,\n",
    "              6,\n",
    "              1,\n",
    "              2])\n",
    "\n",
    "Aub = np.array([\n",
    "            [1,1,1,0,0,0,0,0,0],\n",
    "            [0,0,0,1,1,1,0,0,0],\n",
    "            [0,0,0,0,0,0,1,1,1]\n",
    "               ])\n",
    "bub = np.array([80,\n",
    "                40,\n",
    "                60    \n",
    "])\n",
    "\n",
    "Aeq = np.array([[1,0,0,1,0,0,1,0,0],\n",
    "               [0,1,0,0,1,0,0,1,0],\n",
    "               [0,0,1,0,0,1,0,0,1]])\n",
    "\n",
    "beq = np.array([70,\n",
    "                40,\n",
    "                70])\n",
    "opt.linprog(c, Aub, bub, Aeq, beq)"
   ]
  },
  {
   "cell_type": "markdown",
   "metadata": {},
   "source": [
    "### Resultado no interpretado por falta de acurácia :("
   ]
  },
  {
   "cell_type": "code",
   "execution_count": null,
   "metadata": {},
   "outputs": [],
   "source": []
  }
 ],
 "metadata": {
  "kernelspec": {
   "display_name": "Python 3",
   "language": "python",
   "name": "python3"
  },
  "language_info": {
   "codemirror_mode": {
    "name": "ipython",
    "version": 3
   },
   "file_extension": ".py",
   "mimetype": "text/x-python",
   "name": "python",
   "nbconvert_exporter": "python",
   "pygments_lexer": "ipython3",
   "version": "3.8.8"
  }
 },
 "nbformat": 4,
 "nbformat_minor": 2
}
