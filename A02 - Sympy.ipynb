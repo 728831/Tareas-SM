{
 "cells": [
  {
   "cell_type": "markdown",
   "metadata": {},
   "source": [
    "# Ejercicios de optimización escalar"
   ]
  },
  {
   "cell_type": "markdown",
   "metadata": {},
   "source": [
    "**Para la siguientes funciones encuentre los puntos críticos, grafique y diga si éste se trata de un máximo o mínimo, local o global.**"
   ]
  },
  {
   "cell_type": "markdown",
   "metadata": {},
   "source": [
    "$f(x)=1260+117x-9x^2$"
   ]
  },
  {
   "cell_type": "code",
   "execution_count": 54,
   "metadata": {},
   "outputs": [],
   "source": [
    "import sympy as sp\n",
    "import numpy as np \n",
    "import matplotlib.pyplot as plt\n",
    "%matplotlib inline"
   ]
  },
  {
   "cell_type": "code",
   "execution_count": 121,
   "metadata": {},
   "outputs": [
    {
     "data": {
      "text/latex": [
       "$\\displaystyle 117 - 18 x$"
      ],
      "text/plain": [
       "117 - 18*x"
      ]
     },
     "execution_count": 121,
     "metadata": {},
     "output_type": "execute_result"
    }
   ],
   "source": [
    "def f(x) :\n",
    "    return 1260 + 117*x - 9*x**2\n",
    "sp.var(\"x\")\n",
    "dfx = sp.diff(f(x), x)\n",
    "dfxx = sp.diff(f(x), x, 2)\n",
    "dfx"
   ]
  },
  {
   "cell_type": "code",
   "execution_count": 56,
   "metadata": {},
   "outputs": [
    {
     "data": {
      "text/plain": [
       "[13/2]"
      ]
     },
     "execution_count": 56,
     "metadata": {},
     "output_type": "execute_result"
    }
   ],
   "source": [
    "x_sol = sp.solve(dfx, x)\n",
    "x_sol"
   ]
  },
  {
   "cell_type": "code",
   "execution_count": 57,
   "metadata": {},
   "outputs": [
    {
     "data": {
      "text/latex": [
       "$\\displaystyle -18$"
      ],
      "text/plain": [
       "-18"
      ]
     },
     "execution_count": 57,
     "metadata": {},
     "output_type": "execute_result"
    }
   ],
   "source": [
    "dfxx.subs(x, x_sol[0])"
   ]
  },
  {
   "cell_type": "code",
   "execution_count": 65,
   "metadata": {},
   "outputs": [
    {
     "data": {
      "text/plain": [
       "[<matplotlib.lines.Line2D at 0x240130270a0>]"
      ]
     },
     "execution_count": 65,
     "metadata": {},
     "output_type": "execute_result"
    },
    {
     "data": {
      "image/png": "[encoded data removed]",
      "text/plain": [
       "<Figure size 432x288 with 1 Axes>"
      ]
     },
     "metadata": {
      "needs_background": "light"
     },
     "output_type": "display_data"
    }
   ],
   "source": [
    "xn = np.linspace(5, 7,1000)\n",
    "yn = f(xn)\n",
    "\n",
    "plt.figure()\n",
    "plt.plot(xn, yn)\n",
    "plt.grid()\n",
    "plt.plot(x_sol[0], f(x_sol[0]), \"*r\")"
   ]
  },
  {
   "cell_type": "markdown",
   "metadata": {},
   "source": [
    "EL punto critico encontrado en x_sol es un máximo global"
   ]
  },
  {
   "cell_type": "markdown",
   "metadata": {},
   "source": [
    "$f(x)=5+x+\\frac{4}{x}$, para $x>0$"
   ]
  },
  {
   "cell_type": "code",
   "execution_count": 94,
   "metadata": {},
   "outputs": [
    {
     "data": {
      "text/latex": [
       "$\\displaystyle x + 5 + \\frac{4}{x}$"
      ],
      "text/plain": [
       "x + 5 + 4/x"
      ]
     },
     "execution_count": 94,
     "metadata": {},
     "output_type": "execute_result"
    }
   ],
   "source": [
    "def f (x) : \n",
    "    return 5+x+(4/x)\n",
    "sp.var(\"x\")\n",
    "dfx = sp.diff(f(x), x)\n",
    "dfxx = sp.diff(f(x),x,2)\n",
    "f(x)"
   ]
  },
  {
   "cell_type": "code",
   "execution_count": 68,
   "metadata": {},
   "outputs": [
    {
     "data": {
      "text/plain": [
       "[-2, 2]"
      ]
     },
     "execution_count": 68,
     "metadata": {},
     "output_type": "execute_result"
    }
   ],
   "source": [
    "x_sol = sp.solve(dfx, x)\n",
    "x_sol"
   ]
  },
  {
   "cell_type": "code",
   "execution_count": 79,
   "metadata": {},
   "outputs": [
    {
     "data": {
      "text/plain": [
       "[<matplotlib.lines.Line2D at 0x240143c0220>]"
      ]
     },
     "execution_count": 79,
     "metadata": {},
     "output_type": "execute_result"
    },
    {
     "data": {
      "image/png": "[encoded data removed]",
      "text/plain": [
       "<Figure size 432x288 with 1 Axes>"
      ]
     },
     "metadata": {
      "needs_background": "light"
     },
     "output_type": "display_data"
    }
   ],
   "source": [
    "xn = np.linspace(-15, 25,100)\n",
    "yn = f(xn)\n",
    "\n",
    "plt.figure()\n",
    "plt.plot(xn, yn)\n",
    "plt.grid()\n",
    "plt.plot(x_sol[0], f(x_sol[0]), \"*r\")\n",
    "plt.plot(x_sol[1], f(x_sol[1]), \"*r\")\n"
   ]
  },
  {
   "cell_type": "markdown",
   "metadata": {},
   "source": [
    "$f(x)=6-2x+\\sqrt{18-2x^2}$, para $-3\\leq x\\leq 3$"
   ]
  },
  {
   "cell_type": "code",
   "execution_count": null,
   "metadata": {},
   "outputs": [],
   "source": [
    "def f(x):\n",
    "    return 6-2**x+"
   ]
  },
  {
   "cell_type": "code",
   "execution_count": null,
   "metadata": {},
   "outputs": [],
   "source": []
  },
  {
   "cell_type": "code",
   "execution_count": null,
   "metadata": {},
   "outputs": [],
   "source": []
  },
  {
   "cell_type": "code",
   "execution_count": null,
   "metadata": {},
   "outputs": [],
   "source": []
  },
  {
   "cell_type": "markdown",
   "metadata": {},
   "source": [
    "$f(x)=\\frac{1}{4}x^4+\\frac{1}{3}x^3-x^2$ en el intervalo $[-3,1.7]$"
   ]
  },
  {
   "cell_type": "code",
   "execution_count": 139,
   "metadata": {},
   "outputs": [
    {
     "data": {
      "text/latex": [
       "$\\displaystyle 0.25 x^{4} + 0.333333333333333 x^{3} - x^{2}$"
      ],
      "text/plain": [
       "0.25*x**4 + 0.333333333333333*x**3 - x**2"
      ]
     },
     "execution_count": 139,
     "metadata": {},
     "output_type": "execute_result"
    }
   ],
   "source": [
    "def f(x): \n",
    "    return (1/4)*x**4 + (1/3)*x**3 - x**2\n",
    "f(x)"
   ]
  },
  {
   "cell_type": "code",
   "execution_count": null,
   "metadata": {},
   "outputs": [],
   "source": [
    "dfx= sp.diff(f(x), x)\n",
    "dfxx= sp.diff(f(x), x, 2)\n",
    "dfxxx= sp.diff(f(x), x, 3)\n",
    "dfxxxx = sp.diff(f(x), x, 4)"
   ]
  },
  {
   "cell_type": "code",
   "execution_count": 165,
   "metadata": {},
   "outputs": [
    {
     "data": {
      "text/plain": [
       "[-2.00000000000000, 0.0, 1.00000000000000]"
      ]
     },
     "execution_count": 165,
     "metadata": {},
     "output_type": "execute_result"
    }
   ],
   "source": [
    "x_sol = sp.solve(dfx, x)\n",
    "x_sol"
   ]
  },
  {
   "cell_type": "code",
   "execution_count": 166,
   "metadata": {},
   "outputs": [
    {
     "data": {
      "text/plain": [
       "[<matplotlib.lines.Line2D at 0x2aeeee28490>]"
      ]
     },
     "execution_count": 166,
     "metadata": {},
     "output_type": "execute_result"
    },
    {
     "data": {
      "image/png": "[encoded data removed]",
      "text/plain": [
       "<Figure size 432x288 with 1 Axes>"
      ]
     },
     "metadata": {
      "needs_background": "light"
     },
     "output_type": "display_data"
    }
   ],
   "source": [
    "xn = np.linspace(-3,1.7,100)\n",
    "yn = f(xn)\n",
    "\n",
    "plt.figure()\n",
    "plt.plot(xn, yn)\n",
    "plt.grid()\n",
    "plt.plot(x_sol[0], f(x_sol[0]), \"*r\")\n",
    "plt.plot(x_sol[1], f(x_sol[1]), \"*r\")\n",
    "plt.plot(x_sol[2], f(x_sol[2]), \"*r\")"
   ]
  },
  {
   "cell_type": "markdown",
   "metadata": {},
   "source": [
    "---\n",
    "**Resuelva los siguientes problemas usando la librería `SymPy`. Use celdas en `Markdown` para explicar su procedimiento.**"
   ]
  },
  {
   "cell_type": "markdown",
   "metadata": {},
   "source": [
    "El perímetro de un triángulo isósceles es de $10 cm$. ¿Cuánto deben medir sus lados para que el volumen del cuerpo generado por la rotación del triángulo en torno a su base sea el mayor posible? (Volumen de un cono $= \\frac{1}{3}\\pi r^2 h$, donde $r$ es el radio de la base y $h$ la altura del cono)."
   ]
  },
  {
   "cell_type": "code",
   "execution_count": 209,
   "metadata": {},
   "outputs": [
    {
     "data": {
      "text/latex": [
       "$\\displaystyle 2 x + y - 10$"
      ],
      "text/plain": [
       "2*x + y - 10"
      ]
     },
     "execution_count": 209,
     "metadata": {},
     "output_type": "execute_result"
    }
   ],
   "source": [
    "import numpy as np\n",
    "import sympy as sp\n",
    "\n",
    "sp.var(\"x,y,h\")\n",
    "perimetro = 2*x+y - 10 \n",
    "r = (y/2)\n",
    "v = (np.pi*(r**2)*h)/3\n",
    "\n",
    "altura = sp.sqrt(x**2 - (r)**2)\n",
    "perimetro\n"
   ]
  },
  {
   "cell_type": "markdown",
   "metadata": {},
   "source": [
    "1. Identificar criterio de optimización\n",
    "    - Maximizar volumen\n",
    "\n",
    "2. Variables que me ayudan a optimizar\n",
    "    - x, y, h \n",
    "\n",
    "3. Función de costo\n",
    "    - $V = \\frac{1}{3}\\pi r^2 h $\n",
    "\n",
    "4. Información adicional relevante\n",
    "    - $Perímetro = 10 = 2x + y$\n",
    "    - $h = \\sqrt{x^2 - r^2}$\n",
    "    - $r = \\frac{y}{2}$\n",
    "\n",
    "\n"
   ]
  },
  {
   "cell_type": "code",
   "execution_count": 210,
   "metadata": {},
   "outputs": [
    {
     "data": {
      "text/plain": [
       "[5 - y/2]"
      ]
     },
     "execution_count": 210,
     "metadata": {},
     "output_type": "execute_result"
    }
   ],
   "source": [
    "x_sol = sp.solve(perimetro, x)\n",
    "x_sol"
   ]
  },
  {
   "cell_type": "code",
   "execution_count": 211,
   "metadata": {},
   "outputs": [
    {
     "data": {
      "text/latex": [
       "$\\displaystyle \\sqrt{- \\frac{y^{2}}{4} + \\left(5 - \\frac{y}{2}\\right)^{2}}$"
      ],
      "text/plain": [
       "sqrt(-y**2/4 + (5 - y/2)**2)"
      ]
     },
     "execution_count": 211,
     "metadata": {},
     "output_type": "execute_result"
    }
   ],
   "source": [
    "h_subs = altura.subs(x, x_sol[0])\n",
    "h_subs "
   ]
  },
  {
   "cell_type": "code",
   "execution_count": 212,
   "metadata": {},
   "outputs": [
    {
     "data": {
      "text/latex": [
       "$\\displaystyle 0.261799387799149 y^{2} \\sqrt{- \\frac{y^{2}}{4} + \\left(5 - \\frac{y}{2}\\right)^{2}}$"
      ],
      "text/plain": [
       "0.261799387799149*y**2*sqrt(-y**2/4 + (5 - y/2)**2)"
      ]
     },
     "execution_count": 212,
     "metadata": {},
     "output_type": "execute_result"
    }
   ],
   "source": [
    "v_subs = v.subs(h, h_subs)\n",
    "v_subs"
   ]
  },
  {
   "cell_type": "code",
   "execution_count": 213,
   "metadata": {},
   "outputs": [
    {
     "data": {
      "text/plain": [
       "[0.0, 5.00000000000000]"
      ]
     },
     "execution_count": 213,
     "metadata": {},
     "output_type": "execute_result"
    }
   ],
   "source": [
    "v_sol = sp.solve(v_subs, y)\n",
    "v_sol"
   ]
  },
  {
   "cell_type": "code",
   "execution_count": 214,
   "metadata": {},
   "outputs": [
    {
     "data": {
      "text/latex": [
       "$\\displaystyle - \\frac{0.654498469497873 y^{2}}{\\sqrt{- \\frac{y^{2}}{4} + \\left(5 - \\frac{y}{2}\\right)^{2}}} + 0.523598775598299 y \\sqrt{- \\frac{y^{2}}{4} + \\left(5 - \\frac{y}{2}\\right)^{2}}$"
      ],
      "text/plain": [
       "-0.654498469497873*y**2/sqrt(-y**2/4 + (5 - y/2)**2) + 0.523598775598299*y*sqrt(-y**2/4 + (5 - y/2)**2)"
      ]
     },
     "execution_count": 214,
     "metadata": {},
     "output_type": "execute_result"
    }
   ],
   "source": [
    "vd =  sp.diff(v_subs, y)\n",
    "vd"
   ]
  },
  {
   "cell_type": "code",
   "execution_count": 215,
   "metadata": {},
   "outputs": [
    {
     "data": {
      "text/plain": [
       "[0.0, 4.00000000000000]"
      ]
     },
     "execution_count": 215,
     "metadata": {},
     "output_type": "execute_result"
    }
   ],
   "source": [
    "x_solv = sp.solve(vd, y)\n",
    "x_solv"
   ]
  },
  {
   "cell_type": "code",
   "execution_count": 218,
   "metadata": {},
   "outputs": [
    {
     "data": {
      "text/plain": [
       "[2.50000000000000]"
      ]
     },
     "execution_count": 218,
     "metadata": {},
     "output_type": "execute_result"
    }
   ],
   "source": [
    "perimetro_subs = perimetro.subs(y, v_sol[1])\n",
    "perimetro_subs\n",
    "x_solvv = sp.solve(perimetro_subs , x)\n",
    "x_solvv"
   ]
  },
  {
   "cell_type": "code",
   "execution_count": 223,
   "metadata": {},
   "outputs": [
    {
     "name": "stdout",
     "output_type": "stream",
     "text": [
      "Los lados que debe de medir x para maximizar el volumen generado por la rotacion del triangulo es de  [2.50000000000000]y el valor para y es de  5.00000000000000\n"
     ]
    }
   ],
   "source": [
    "print(\"Los lados que debe de medir x para maximizar el volumen generado por la rotacion del triangulo es de \", str(x_solvv) + \"y el valor para y es de \", (v_sol[1]))"
   ]
  },
  {
   "cell_type": "markdown",
   "metadata": {},
   "source": [
    "Disponemos de una barra de aluminio de 6 metros para construir una portería de fútbol. Si queremos que el área de la portería sea máxima, ¿cuánto deben medir los postes y el travesaño?"
   ]
  },
  {
   "cell_type": "code",
   "execution_count": 231,
   "metadata": {},
   "outputs": [
    {
     "data": {
      "text/latex": [
       "$\\displaystyle x + 2 y - 6$"
      ],
      "text/plain": [
       "x + 2*y - 6"
      ]
     },
     "execution_count": 231,
     "metadata": {},
     "output_type": "execute_result"
    }
   ],
   "source": [
    "sp.var(\"x, y\")\n",
    "\n",
    "area = 2*y + x - 6\n",
    "area_sol = sp.solve(area, x)\n",
    "area"
   ]
  },
  {
   "cell_type": "code",
   "execution_count": 233,
   "metadata": {},
   "outputs": [
    {
     "data": {
      "text/latex": [
       "$\\displaystyle 6 - 2 y$"
      ],
      "text/plain": [
       "6 - 2*y"
      ]
     },
     "execution_count": 233,
     "metadata": {},
     "output_type": "execute_result"
    }
   ],
   "source": [
    "x_sol = sp.solve(area, x)[0]\n",
    "x_sol"
   ]
  },
  {
   "cell_type": "code",
   "execution_count": 234,
   "metadata": {},
   "outputs": [
    {
     "data": {
      "text/latex": [
       "$\\displaystyle x - 4 y + 6$"
      ],
      "text/plain": [
       "x - 4*y + 6"
      ]
     },
     "execution_count": 234,
     "metadata": {},
     "output_type": "execute_result"
    }
   ],
   "source": [
    "area_subs = area.subs(y, x_sol)\n",
    "area_subs"
   ]
  },
  {
   "cell_type": "code",
   "execution_count": null,
   "metadata": {},
   "outputs": [],
   "source": []
  },
  {
   "cell_type": "markdown",
   "metadata": {},
   "source": [
    "Graficar f(x) = 90 + 15x - 0.6x**2"
   ]
  },
  {
   "cell_type": "code",
   "execution_count": 77,
   "metadata": {},
   "outputs": [],
   "source": [
    "import sympy as sp\n",
    "import numpy as np \n",
    "import matplotlib.pyplot as plt\n",
    "%matplotlib inline"
   ]
  },
  {
   "cell_type": "code",
   "execution_count": 88,
   "metadata": {
    "scrolled": true
   },
   "outputs": [
    {
     "data": {
      "image/png": "[encoded data removed]",
      "text/plain": [
       "<Figure size 432x288 with 1 Axes>"
      ]
     },
     "metadata": {
      "needs_background": "light"
     },
     "output_type": "display_data"
    }
   ],
   "source": [
    "y=90+15*x-0.6*x**2\n",
    "x= np.linspace(-102,100,200)\n",
    "\n",
    "plt.figure()\n",
    "plt.plot(x, y)\n",
    "plt.grid()\n"
   ]
  },
  {
   "cell_type": "code",
   "execution_count": 107,
   "metadata": {},
   "outputs": [
    {
     "data": {
      "text/latex": [
       "$\\displaystyle 12.5$"
      ],
      "text/plain": [
       "12.5000000000000"
      ]
     },
     "execution_count": 107,
     "metadata": {},
     "output_type": "execute_result"
    }
   ],
   "source": [
    "def f(x):\n",
    "    return (90)+(15*x)-(0.6*x**2)\n",
    "sp.var(\"x\")\n",
    "df = sp.diff(f(x), x)\n",
    "pc= sp.solve(df, x)[0]\n",
    "pc"
   ]
  },
  {
   "cell_type": "code",
   "execution_count": 102,
   "metadata": {},
   "outputs": [
    {
     "data": {
      "text/latex": [
       "$\\displaystyle -1.2$"
      ],
      "text/plain": [
       "-1.20000000000000"
      ]
     },
     "execution_count": 102,
     "metadata": {},
     "output_type": "execute_result"
    }
   ],
   "source": [
    "dfxx = sp.diff(dfx, x)\n",
    "dfxx"
   ]
  },
  {
   "cell_type": "code",
   "execution_count": 106,
   "metadata": {},
   "outputs": [
    {
     "data": {
      "text/plain": [
       "[12.5000000000000]"
      ]
     },
     "execution_count": 106,
     "metadata": {},
     "output_type": "execute_result"
    }
   ],
   "source": []
  },
  {
   "cell_type": "code",
   "execution_count": 117,
   "metadata": {},
   "outputs": [
    {
     "data": {
      "image/png": "[encoded data removed]",
      "text/plain": [
       "<Figure size 432x288 with 1 Axes>"
      ]
     },
     "metadata": {
      "needs_background": "light"
     },
     "output_type": "display_data"
    }
   ],
   "source": [
    "xn = np.linspace(0,30,200)\n",
    "yn = f(xn)\n",
    "\n",
    "plt.figure()\n",
    "plt.plot(xn, yn)\n",
    "plt.plot(pc, f(pc), \"r*\")\n",
    "plt.grid()\n"
   ]
  },
  {
   "cell_type": "code",
   "execution_count": 112,
   "metadata": {},
   "outputs": [
    {
     "name": "stdout",
     "output_type": "stream",
     "text": [
      "La concentracion maxima de ozono sera de 183.750000000000microgramos por metro cubico\n"
     ]
    }
   ],
   "source": [
    "print(\"La concentracion maxima de ozono sera de \" + str(f(pc))+ \"microgramos por metro cubico\")"
   ]
  },
  {
   "cell_type": "code",
   "execution_count": 114,
   "metadata": {},
   "outputs": [
    {
     "name": "stdout",
     "output_type": "stream",
     "text": [
      "Ocurrira en 2002.50000000000\n"
     ]
    }
   ],
   "source": [
    "print(\"Ocurrira en \" + str(pc +1990))"
   ]
  },
  {
   "cell_type": "code",
   "execution_count": null,
   "metadata": {},
   "outputs": [],
   "source": []
  }
 ],
 "metadata": {
  "kernelspec": {
   "display_name": "Python 3",
   "language": "python",
   "name": "python3"
  },
  "language_info": {
   "codemirror_mode": {
    "name": "ipython",
    "version": 3
   },
   "file_extension": ".py",
   "mimetype": "text/x-python",
   "name": "python",
   "nbconvert_exporter": "python",
   "pygments_lexer": "ipython3",
   "version": "3.8.8"
  }
 },
 "nbformat": 4,
 "nbformat_minor": 2
}
