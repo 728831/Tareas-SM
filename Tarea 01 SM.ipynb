{
 "cells": [
  {
   "cell_type": "markdown",
   "id": "2d5c08c8",
   "metadata": {},
   "source": [
    "# Tarea 01           18-01-2023"
   ]
  },
  {
   "cell_type": "markdown",
   "id": "f5054700",
   "metadata": {},
   "source": [
    "## Presentación"
   ]
  },
  {
   "cell_type": "markdown",
   "id": "2ec84533",
   "metadata": {},
   "source": [
    "Mi nombre es **Luis Fernando Ramírez Torres** y mi expediente es **728831**, soy nacido en *Guadalajara, Jalisco*. Pero nunca viví allí, me crié en Tijuana y partes de Nayarit. Actualmente estoy estudiando ingenieria financiera y los motivos son 2, me gustan los números y las inversiones."
   ]
  },
  {
   "cell_type": "markdown",
   "id": "10f65f35",
   "metadata": {},
   "source": [
    "## Tema: Ciclos Ecónomicos"
   ]
  },
  {
   "cell_type": "markdown",
   "id": "5340ed45",
   "metadata": {},
   "source": [
    "El *ciclo económico* es una serie de fases por las que pasa la economía y que suceden en orden hasta llegar a la fase final en la que el ciclo económico comienza de nuevo."
   ]
  },
  {
   "cell_type": "markdown",
   "id": "93a57f57",
   "metadata": {},
   "source": [
    "#### Fases de los ciclos económicos"
   ]
  },
  {
   "cell_type": "markdown",
   "id": "6ce58bef",
   "metadata": {},
   "source": [
    "1.- Recuperación: Fase del ciclo en que la economía está estancada o crece ligeramente.\n",
    "\n",
    "2.-Expansión: Fase de mayor crecimiento económico.\n",
    "\n",
    "3.- Auge: Fase en que el crecimiento económico empieza a mostrar señales de agotamiento.\n",
    "\n",
    "4.- Recesión: La actividad económica se reduce. Conlleva una disminución del consumo, de la inversión y de la producción de bienes y servicio.\n",
    "\n",
    "5.- Depresión: Cuando nos encontramos en una fase de recesión continua en el tiempo y sin previsión de mejora.\n"
   ]
  },
  {
   "cell_type": "markdown",
   "id": "2f253465",
   "metadata": {},
   "source": [
    "<img src=\"https://economipedia.com/wp-content/uploads/Fases-del-ciclo-econ%C3%B3mico.bmp \"/>"
   ]
  },
  {
   "cell_type": "markdown",
   "id": "fb49f855",
   "metadata": {},
   "source": [
    "Una de las principales formas de medición de los ciclos ecónomicos es con ayuda del PIB. Básicamente, si el PIB sube, estaríamos en una situación expansiva y de creación de riqueza. Si el PIB baja, estamos en una situación de recesión y pérdida de riqueza. Para calcular el PIB necesitamos:"
   ]
  },
  {
   "cell_type": "markdown",
   "id": "aeb6b0fb",
   "metadata": {},
   "source": [
    "$$ PIB = C + I + G + X – M $$"
   ]
  },
  {
   "cell_type": "markdown",
   "id": "6ad4a639",
   "metadata": {},
   "source": [
    "Donde C el consumo, I la inversión, G el gasto público, X las exportaciones y M las importaciones."
   ]
  },
  {
   "cell_type": "markdown",
   "id": "558b13e7",
   "metadata": {},
   "source": [
    "•Andrés Sevilla Arias, C. F. A. (2015, May 28). Ciclo económico. Economipedia. https://economipedia.com/definiciones/ciclo-economico.html\n",
    "\n",
    "•Corvo, H. S. (2020, October 13). Ciclo económico. Lifeder. https://www.lifeder.com/ciclo-economico/\n",
    "\n",
    "•Barrios, O. (2022, November 12). Ciclos económicos: ¿qué son y cómo afectan a tu dinero? Storicard. https://www.storicard.com/blog/ciclos-economicos\n",
    "\n",
    "•(N.d.). Economipedia.com. Retrieved January 19, 2023, from https://economipedia.com/wp-content/uploads/Fases-del-ciclo-econ%C3%B3mico.bmp\n",
    "\n",
    "•Andrés Sevilla Arias, C. F. A. (2020, September 27). ¿Cómo se calcula el PIB? Economipedia. https://economipedia.com/definiciones/como-se-calcula-pib-producto-interior-bruto.html\n",
    "\n"
   ]
  },
  {
   "cell_type": "code",
   "execution_count": null,
   "id": "a298fe7a",
   "metadata": {},
   "outputs": [],
   "source": []
  }
 ],
 "metadata": {
  "kernelspec": {
   "display_name": "Python 3",
   "language": "python",
   "name": "python3"
  },
  "language_info": {
   "codemirror_mode": {
    "name": "ipython",
    "version": 3
   },
   "file_extension": ".py",
   "mimetype": "text/x-python",
   "name": "python",
   "nbconvert_exporter": "python",
   "pygments_lexer": "ipython3",
   "version": "3.8.8"
  }
 },
 "nbformat": 4,
 "nbformat_minor": 5
}
