{
 "cells": [
  {
   "cell_type": "markdown",
   "id": "26b732e8",
   "metadata": {},
   "source": [
    "### Promedio de Gastos en los meses que la Utilidad fue negativa"
   ]
  },
  {
   "cell_type": "code",
   "execution_count": 1,
   "id": "b3581ed0",
   "metadata": {},
   "outputs": [],
   "source": [
    "import pandas as pd\n",
    "data = pd.read_excel(\"datosCT.xlsx\")"
   ]
  },
  {
   "cell_type": "code",
   "execution_count": 2,
   "id": "69968b53",
   "metadata": {},
   "outputs": [],
   "source": [
    "data[\"Utilidad\"] = (data[\"Ingreso\"])-(data[\"Gasto\"])"
   ]
  },
  {
   "cell_type": "code",
   "execution_count": 3,
   "id": "fb42808f",
   "metadata": {},
   "outputs": [
    {
     "name": "stdout",
     "output_type": "stream",
     "text": [
      "0     -540\n",
      "1     -540\n",
      "2     1430\n",
      "3     1080\n",
      "4    -1660\n",
      "5     -360\n",
      "6     -730\n",
      "7     1030\n",
      "8      440\n",
      "9     -160\n",
      "10    2080\n",
      "11   -1760\n",
      "Name: Utilidad, dtype: int64\n"
     ]
    }
   ],
   "source": [
    "print(data[\"Utilidad\"])"
   ]
  },
  {
   "cell_type": "code",
   "execution_count": 58,
   "id": "c22ca773",
   "metadata": {},
   "outputs": [
    {
     "name": "stdout",
     "output_type": "stream",
     "text": [
      "Tu promedio de utilidades negativas es de $ -821.4285714285714\n"
     ]
    }
   ],
   "source": [
    "pro = []\n",
    "for x in data[\"Utilidad\"]:\n",
    "    if x < 0:\n",
    "        pro.append(x)\n",
    "print(\"Tu promedio de utilidades negativas es de $\", (sum(pro)/len(pro)))"
   ]
  },
  {
   "cell_type": "markdown",
   "id": "711af9e9",
   "metadata": {},
   "source": [
    "### Ingresos totales del año"
   ]
  },
  {
   "cell_type": "code",
   "execution_count": 56,
   "id": "0d3c19db",
   "metadata": {},
   "outputs": [
    {
     "name": "stdout",
     "output_type": "stream",
     "text": [
      "Tus ingresos totales es de $ 28020\n"
     ]
    }
   ],
   "source": [
    "print(\"Tus ingresos totales es de $\", sum(data[\"Ingreso\"]))"
   ]
  },
  {
   "cell_type": "code",
   "execution_count": 57,
   "id": "c5e6a3ac",
   "metadata": {},
   "outputs": [
    {
     "name": "stdout",
     "output_type": "stream",
     "text": [
      "Tu ingreso promedio mensual es de $ 2335.0\n"
     ]
    }
   ],
   "source": [
    "print(\"Tu ingreso promedio mensual es de $\", (sum(data[\"Ingreso\"])/len(data[\"Ingreso\"])))"
   ]
  },
  {
   "cell_type": "code",
   "execution_count": null,
   "id": "9dc5af18",
   "metadata": {},
   "outputs": [],
   "source": []
  }
 ],
 "metadata": {
  "kernelspec": {
   "display_name": "Python 3",
   "language": "python",
   "name": "python3"
  },
  "language_info": {
   "codemirror_mode": {
    "name": "ipython",
    "version": 3
   },
   "file_extension": ".py",
   "mimetype": "text/x-python",
   "name": "python",
   "nbconvert_exporter": "python",
   "pygments_lexer": "ipython3",
   "version": "3.8.8"
  }
 },
 "nbformat": 4,
 "nbformat_minor": 5
}
