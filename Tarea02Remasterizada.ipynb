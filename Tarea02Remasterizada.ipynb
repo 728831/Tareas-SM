{
 "cells": [
  {
   "cell_type": "markdown",
   "metadata": {},
   "source": [
    "# Tarea - Programación lineal\n",
    "### Luis Fernando Ramirez Torres 23/02/2023\n",
    "#### 728831"
   ]
  },
  {
   "cell_type": "markdown",
   "metadata": {},
   "source": [
    "### Diseño de la Dieta Óptima\n",
    "\n",
    "Se quiere producir comida para gatos de la manera más barata, no obstante se debe también asegurar que se cumplan los datos requeridos de analisis nutricional. Por lo que se quiere variar la cantidad de cada ingrediente para cumplir con los estandares nutricionales. Los requisitos que se tienen es que en $100$ gramos, se deben tener **por lo menos** $8$ gramos de proteína y $6$ gramos de grasa. Así mismo, no se debe tener más de $2$ gramos de fibra y $0.4$ gramos de sal.  \n",
    "\n",
    "Los datos nutricionales se pueden obtener de la siguiente tabla:\n",
    "\n",
    "Ingrediente|Proteína|Grasa|Fibra|Sal\n",
    ":----|----|----|----|----\n",
    "Pollo|  10.0%|08.0%|00.1%|00.2%\n",
    "Carne|  20.0%|10.0%|00.5%|00.5%\n",
    "Cordero|15.0%|11.0%|00.5%|00.7%\n",
    "Arroz|  00.0%|01.0%|10.0%|00.2%\n",
    "Trigo|  04.0%|01.0%|15.0%|00.8%\n",
    "Gel|    00.0%|00.0%|00.0%|00.0%\n",
    "\n",
    "Los costos de cada producto son:\n",
    "\n",
    "Ingrediente|Costo por gramo\n",
    ":----|----\n",
    "Pollo|$\\$$0.013\n",
    "Carne|$\\$$0.008\n",
    "Cordero|$\\$$0.010\n",
    "Arroz|$\\$$0.002\n",
    "Trigo|$\\$$0.005\n",
    "Gel|$\\$$0.001    \n",
    "\n",
    "Lo que se busca optimizar en este caso es la cantidad de productos que se debe utilizar en la comida de gato, minimizando el costo total. Para simplificar la notación use las siguientes variables: \n",
    "\n",
    "+ $x_1:$ Gramos de pollo  \n",
    "+ $x_2:$ Gramos de carne  \n",
    "+ $x_3:$ Gramos de cordero  \n",
    "+ $x_4:$ Gramos de arroz  \n",
    "+ $x_5:$ Gramos de trigo  \n",
    "+ $x_6:$ Gramos de gel\n",
    "\n",
    "La tarea consiste en plantear el problemade programación lineal que permita satisfacer las necesidades alimenticias del gato al tiempo que minimice el costo total y resolverlo con `linprog`."
   ]
  },
  {
   "cell_type": "markdown",
   "metadata": {},
   "source": [
    "Paso 1.- Minimizar costo total "
   ]
  },
  {
   "cell_type": "markdown",
   "metadata": {},
   "source": [
    "Paso 2.- Identificar variables que tenga el control\n",
    "+ $x_1:$ Gramos de pollo  \n",
    "+ $x_2:$ Gramos de carne  \n",
    "+ $x_3:$ Gramos de cordero  \n",
    "+ $x_4:$ Gramos de arroz  \n",
    "+ $x_5:$ Gramos de trigo  \n",
    "+ $x_6:$ Gramos de gel\n",
    "\n",
    "Paso 3.- Funcion de costo\n",
    "- $x_10.013+x_20.008+x_30.010+x_40.002+x_50.005+x_60.001$\n"
   ]
  },
  {
   "cell_type": "markdown",
   "metadata": {},
   "source": [
    "Paso 4.- identificar restricciones\n",
    "\n",
    "0.10𝑥1 + 0.20𝑥2 + 0.15𝑥3 + 0.0𝑥4 + 0.04𝑥5 + 0.00𝑥6 >= 8\n",
    "\n",
    "0.08x1 + 0.10x2 + 0.11x3 + 0.01x4 + 0.010x5 + 0.0x6 >= 6\n",
    "\n",
    "0.001x1 + 0.005x2 + 0.005x3 + 0.10x4 + 0.15x5 + 0.0x6 <= 2\n",
    "\n",
    "0.002x1 + 0.005x2 + 0.007x3 + 0.002x4 + 0.008x5 + 0 <= 0.4\n",
    "\n",
    "\n"
   ]
  },
  {
   "cell_type": "code",
   "execution_count": 70,
   "metadata": {},
   "outputs": [],
   "source": [
    "import sympy as sp\n",
    "import numpy as np\n",
    "import scipy.optimize as opt\n"
   ]
  },
  {
   "cell_type": "code",
   "execution_count": 89,
   "metadata": {
    "scrolled": true
   },
   "outputs": [],
   "source": [
    "c = np.array([0.013,\n",
    "              0.008,\n",
    "              0.010,\n",
    "              0.002,\n",
    "              0.005,\n",
    "              0.001])\n",
    "\n",
    "Aub = np.array([\n",
    "    [-0.100,-0.200,-0.150,-0.00,-0.040,-0],\n",
    "    [-0.080,-0.100,-0.110,-0.010,-0.010,-0],\n",
    "    [0.001, 0.005, 0.005, 0.100, 0.150, 0],\n",
    "    [0.002, 0.005, 0.007, 0.002, 0.008, 0]\n",
    "])\n",
    "\n",
    "bub = np.array([-8,\n",
    "                -6,\n",
    "                2,\n",
    "                0.4])\n",
    "\n",
    "Aeq = np.array([\n",
    "    [1,1,1,1,1,1]\n",
    "])\n",
    "\n",
    "beq= np.array([100\n",
    "              ])\n",
    "\n",
    "sol = opt.linprog(c, Aub, bub, Aeq, beq)\n"
   ]
  },
  {
   "cell_type": "markdown",
   "metadata": {},
   "source": [
    "### Interpretación"
   ]
  },
  {
   "cell_type": "markdown",
   "metadata": {},
   "source": [
    "la cantidad de productos que se debe utilizar en la comida de gato para minimizando el costo total "
   ]
  },
  {
   "cell_type": "code",
   "execution_count": 91,
   "metadata": {},
   "outputs": [
    {
     "name": "stdout",
     "output_type": "stream",
     "text": [
      " la cantidad de productos que se debe utilizar en la comida de gato para minimizar el costo total es de  5e-10 gramos de pollo,  59.9999999936 gramos de carne,  4.1e-09 gramos de cordero,  2.29e-08  gramos de arroz,  4e-10  gramos de trigo,  39.9999999786  gramos de gel\n"
     ]
    }
   ],
   "source": [
    "print(\" la cantidad de productos que se debe utilizar en la comida de gato para minimizar el costo total es de \",\n",
    "      sol.x.round(10)[0], \"gramos de pollo, \",\n",
    "      sol.x.round(10)[1],\"gramos de carne, \", \n",
    "      sol.x.round(10)[2],\"gramos de cordero, \",\n",
    "      sol.x.round(10)[3],\" gramos de arroz, \",\n",
    "      sol.x.round(10)[4],\" gramos de trigo, \",\n",
    "      sol.x.round(10)[5],\" gramos de gel\")\n"
   ]
  },
  {
   "cell_type": "markdown",
   "metadata": {},
   "source": [
    "### Problema de distribución de energía eléctrica\n",
    "\n",
    "La Comisión Federal de Electricidad **(CFE)** dispone de cuatro plantas de generación para satisfacer la demanda diaria eléctrica en cuatro ciudades, Guadalajara, León y Morelia. Las plantas $1$, $2$ y $3$ pueden satisfacer $80$, $40$ y $60$ millones de KW al día respectivamente. Las necesidades de las ciudades de Guadalajara, León y Morelia son de $70$, $40$ y $70$ millones de Kw al día respectivamente. \n",
    "\n",
    "\n",
    "Los costos asociados al envío de suministro energético por cada millón de Kw entre cada planta y cada ciudad son los registrados en la siguiente tabla. \n",
    "\n",
    "-|Guadalajara|León|Morelia\n",
    ":----|----|----|----\n",
    "Planta 1|5|2|7\n",
    "Planta 2|3|6|6\n",
    "Planta 3|6|1|2\n",
    "\n",
    "Y por último, las restricciones del problema, van a estar dadas por las capacidades de oferta y demanda de cada planta (en millones de KW) y cada ciudad.\n",
    "\n",
    "Para simplificar la notación use las siguientes variables:\n",
    "\n",
    "+ $x_1$: Kw (en millones) distribuidos de la Planta 1 a Guadalajara\n",
    "+ $x_2$: Kw (en millones) distribuidos de la Planta 1 a León\n",
    "+ $x_3$: Kw (en millones) distribuidos de la Planta 1 a Morelia\n",
    "+ $x_4$: Kw (en millones) distribuidos de la Planta 2 a Guadalajara\n",
    "+ $x_5$: Kw (en millones) distribuidos de la Planta 2 a León\n",
    "+ $x_6$: Kw (en millones) distribuidos de la Planta 2 a Morelia\n",
    "+ $x_7$: Kw (en millones) distribuidos de la Planta 3 a Guadalajara\n",
    "+ $x_8$: Kw (en millones) distribuidos de la Planta 3 a León\n",
    "+ $x_9$: Kw (en millones) distribuidos de la Planta 3 a Morelia\n",
    "\n",
    "La tarea consiste en plantear el problema de programación lineal que permita satisfacer las necesidades de todas las ciudades al tiempo que minimice los costos asociados a la distribución y resolverlo con `linprog`."
   ]
  },
  {
   "cell_type": "markdown",
   "metadata": {},
   "source": [
    "Paso 1 minimizar costos "
   ]
  },
  {
   "cell_type": "markdown",
   "metadata": {},
   "source": [
    "Paso 2.- Variables que yo controlo\n",
    "x1+x2+x3+x4+x5+x6+x7+x8+x9"
   ]
  },
  {
   "cell_type": "markdown",
   "metadata": {},
   "source": [
    "Paso 3 \n",
    "Funcion de costo\n",
    "\n",
    "' $5x_1 + 2x_2 + 7x_3 +3x_4 + 6x_5 + 6x_6 + 6x_7 + x_8 + 2x_9$"
   ]
  },
  {
   "cell_type": "markdown",
   "metadata": {},
   "source": [
    "Paso 4 restricciones\n",
    "\n",
    "x1+x4+x7 >= 70\n",
    "\n",
    "x2+x5+x8 >= 40\n",
    "\n",
    "x3+x6+x9 >= 70\n",
    "\n",
    "x1+x2+x3 =< 80\n",
    "\n",
    "x4+x5+x6 =< 40\n",
    "\n",
    "x7+x8+x9 =< 60\n"
   ]
  },
  {
   "cell_type": "code",
   "execution_count": 92,
   "metadata": {},
   "outputs": [],
   "source": [
    "c = np.array([5,\n",
    "              2,\n",
    "              7,\n",
    "              3,\n",
    "              6,\n",
    "              6,\n",
    "              6,\n",
    "              1,\n",
    "              2])\n",
    "\n",
    "Aub = np.array([\n",
    "            [-1, 0, 0, -1, 0, 0, -1, 0, 0],\n",
    "            [0, -1, 0, 0, -1, 0, 0, -1, 0],\n",
    "            [0, 0, -1, 0, 0, -1, 0, 0, -1],\n",
    "])\n",
    "\n",
    "bub = np.array([-70,\n",
    "                -40,\n",
    "                -70,\n",
    "])\n",
    "\n",
    "Aeq = np.array([\n",
    "            [1, 1, 1, 0, 0, 0, 0, 0, 0],\n",
    "            [0, 0, 0, 1, 1, 1, 0, 0, 0],\n",
    "            [0, 0, 0, 0, 0, 0, 1, 1, 1]\n",
    "])\n",
    "\n",
    "\n",
    "beq = np.array([\n",
    "                80,\n",
    "                40,\n",
    "                60\n",
    "])\n",
    "\n",
    "\n",
    "sol = opt.linprog(c, Aub, bub, Aeq, beq)\n"
   ]
  },
  {
   "cell_type": "code",
   "execution_count": 78,
   "metadata": {},
   "outputs": [
    {
     "name": "stdout",
     "output_type": "stream",
     "text": [
      " Los Kw (en millones) distribuidos de la Planta 1 a Guadalajara deben ser 30.0\n",
      " Los Kw (en millones) distribuidos de la Planta 1 a Leon deben ser  40.0\n",
      " Los Kw (en millones) distribuidos de la Planta 1 a Morelia deben ser  10.0\n",
      " Los Kw (en millones) distribuidos de la Planta 2 a Guadalajara deben ser  40.0\n",
      " Los Kw (en millones) distribuidos de la Planta 2 a Leon deben ser   0.0\n",
      " Los Kw (en millones) distribuidos de la Planta 2 a Morelia deben ser  0.0\n",
      " Los Kw (en millones) distribuidos de la Planta 3 a Guadalajara deben ser  0.0\n",
      " Los Kw (en millones) distribuidos de la Planta 3 a Leon deben ser   0.0\n",
      " Los Kw (en millones) distribuidos de la Planta 3 a Morelia deben ser  60.0\n"
     ]
    }
   ],
   "source": [
    "print(\" Los Kw (en millones) distribuidos de la Planta 1 a Guadalajara deben ser\",sol.x.round(4)[0])\n",
    "print(\" Los Kw (en millones) distribuidos de la Planta 1 a Leon deben ser \",sol.x.round(4)[1])\n",
    "print(\" Los Kw (en millones) distribuidos de la Planta 1 a Morelia deben ser \",sol.x.round(4)[2])\n",
    "print(\" Los Kw (en millones) distribuidos de la Planta 2 a Guadalajara deben ser \",sol.x.round(4)[3])\n",
    "print(\" Los Kw (en millones) distribuidos de la Planta 2 a Leon deben ser  \",sol.x.round(4)[4])\n",
    "print(\" Los Kw (en millones) distribuidos de la Planta 2 a Morelia deben ser \",sol.x.round(4)[5])\n",
    "print(\" Los Kw (en millones) distribuidos de la Planta 3 a Guadalajara deben ser \",sol.x.round(4)[6])\n",
    "print(\" Los Kw (en millones) distribuidos de la Planta 3 a Leon deben ser  \",sol.x.round(4)[7])\n",
    "print(\" Los Kw (en millones) distribuidos de la Planta 3 a Morelia deben ser \",sol.x.round(4)[8])\n"
   ]
  }
 ],
 "metadata": {
  "kernelspec": {
   "display_name": "Python 3",
   "language": "python",
   "name": "python3"
  },
  "language_info": {
   "codemirror_mode": {
    "name": "ipython",
    "version": 3
   },
   "file_extension": ".py",
   "mimetype": "text/x-python",
   "name": "python",
   "nbconvert_exporter": "python",
   "pygments_lexer": "ipython3",
   "version": "3.8.8"
  }
 },
 "nbformat": 4,
 "nbformat_minor": 2
}
